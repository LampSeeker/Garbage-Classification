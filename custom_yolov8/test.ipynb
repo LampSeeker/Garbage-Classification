{
 "cells": [
  {
   "cell_type": "code",
   "execution_count": 4,
   "metadata": {},
   "outputs": [
    {
     "name": "stdout",
     "output_type": "stream",
     "text": [
      "<class 'dict'> 12\n"
     ]
    }
   ],
   "source": [
    "from ultralytics import YOLO\n",
    "\n",
    "# Load the model\n",
    "model = YOLO('./best.pt')  # load a pretrained model\n",
    "print(type(model.names),len(model.names))"
   ]
  },
  {
   "cell_type": "code",
   "execution_count": null,
   "metadata": {},
   "outputs": [],
   "source": [
    "model.train(data=\"./train_bigdata.yaml\",epochs=1,batch=4,plots=True,imgsz=640)"
   ]
  },
  {
   "cell_type": "code",
   "execution_count": null,
   "metadata": {},
   "outputs": [
    {
     "name": "stdout",
     "output_type": "stream",
     "text": [
      "is_cli : False\n"
     ]
    },
    {
     "name": "stderr",
     "output_type": "stream",
     "text": [
      "\n",
      "0: 640x640 1 16, 1 21, 1 23, 1: 640x640 1 16, 1 21, 1 23, 148.3ms\n",
      "Speed: 2.5ms preprocess, 74.2ms inference, 2.0ms postprocess per image at shape (1, 3, 640, 640)\n"
     ]
    }
   ],
   "source": [
    "# Perform inference\n",
    "results = model(['./C_20220817_001584.jpg','./C_20220817_001584.jpg'])\n",
    "\n",
    "# Print the results\n",
    "#results    results = (results , img_vec , x)"
   ]
  },
  {
   "cell_type": "code",
   "execution_count": null,
   "metadata": {},
   "outputs": [
    {
     "data": {
      "text/plain": [
       "ultralytics.engine.results.Results object with attributes:\n",
       "\n",
       "boxes: ultralytics.engine.results.Boxes object\n",
       "keypoints: None\n",
       "keys: ['boxes']\n",
       "masks: None\n",
       "names: {0: '0', 1: '1', 2: '2', 3: '3', 4: '4', 5: '5', 6: '6', 7: '7', 8: '8', 9: '9', 10: '10', 11: '11', 12: '12', 13: '13', 14: '14', 15: '15', 16: '16', 17: '17', 18: '18', 19: '19', 20: '20', 21: '21', 22: '22', 23: '23', 24: '24', 25: '25', 26: '26', 27: '27', 28: '28'}\n",
       "orig_img: array([[[163, 183, 188],\n",
       "        [151, 171, 176],\n",
       "        [157, 177, 182],\n",
       "        ...,\n",
       "        [196, 200, 201],\n",
       "        [201, 205, 206],\n",
       "        [201, 205, 206]],\n",
       "\n",
       "       [[144, 164, 169],\n",
       "        [167, 187, 192],\n",
       "        [164, 184, 189],\n",
       "        ...,\n",
       "        [189, 193, 194],\n",
       "        [197, 201, 202],\n",
       "        [192, 196, 197]],\n",
       "\n",
       "       [[161, 181, 186],\n",
       "        [156, 176, 181],\n",
       "        [158, 178, 183],\n",
       "        ...,\n",
       "        [176, 180, 181],\n",
       "        [184, 188, 189],\n",
       "        [185, 189, 190]],\n",
       "\n",
       "       ...,\n",
       "\n",
       "       [[106, 111, 110],\n",
       "        [111, 116, 115],\n",
       "        [ 99, 104, 103],\n",
       "        ...,\n",
       "        [ 93,  95,  95],\n",
       "        [ 94,  96,  96],\n",
       "        [103, 105, 105]],\n",
       "\n",
       "       [[112, 117, 116],\n",
       "        [105, 110, 109],\n",
       "        [100, 105, 104],\n",
       "        ...,\n",
       "        [ 87,  89,  89],\n",
       "        [ 98, 100, 100],\n",
       "        [ 83,  85,  85]],\n",
       "\n",
       "       [[112, 117, 116],\n",
       "        [109, 114, 113],\n",
       "        [ 99, 104, 103],\n",
       "        ...,\n",
       "        [ 96,  98,  98],\n",
       "        [ 92,  94,  94],\n",
       "        [ 84,  86,  86]]], dtype=uint8)\n",
       "orig_shape: (640, 640)\n",
       "path: './C_20220817_001584.jpg'\n",
       "probs: None\n",
       "save_dir: None\n",
       "speed: {'preprocess': 2.503633499145508, 'inference': 74.15533065795898, 'postprocess': 1.9996166229248047}"
      ]
     },
     "execution_count": 3,
     "metadata": {},
     "output_type": "execute_result"
    }
   ],
   "source": [
    "results[0][0]"
   ]
  },
  {
   "cell_type": "code",
   "execution_count": null,
   "metadata": {},
   "outputs": [
    {
     "name": "stderr",
     "output_type": "stream",
     "text": [
      "WARNING  'Boxes.boxes' is deprecated. Use 'Boxes.data' instead.\n"
     ]
    },
    {
     "data": {
      "text/plain": [
       "ultralytics.engine.results.Boxes object with attributes:\n",
       "\n",
       "boxes: tensor([[121.6200, 108.2262, 538.9631, 470.4791,   0.9773,  23.0000],\n",
       "        [112.1333,  74.3380, 469.0421, 376.3167,   0.9644,  21.0000],\n",
       "        [ 25.1100, 107.4888, 397.8699, 526.1253,   0.8973,  16.0000]], device='cuda:0')\n",
       "cls: tensor([23., 21., 16.], device='cuda:0')\n",
       "conf: tensor([0.9773, 0.9644, 0.8973], device='cuda:0')\n",
       "data: tensor([[121.6200, 108.2262, 538.9631, 470.4791,   0.9773,  23.0000],\n",
       "        [112.1333,  74.3380, 469.0421, 376.3167,   0.9644,  21.0000],\n",
       "        [ 25.1100, 107.4888, 397.8699, 526.1253,   0.8973,  16.0000]], device='cuda:0')\n",
       "id: None\n",
       "is_track: False\n",
       "orig_shape: (640, 640)\n",
       "shape: torch.Size([3, 6])\n",
       "xywh: tensor([[330.2915, 289.3527, 417.3431, 362.2529],\n",
       "        [290.5876, 225.3274, 356.9088, 301.9786],\n",
       "        [211.4900, 316.8070, 372.7599, 418.6365]], device='cuda:0')\n",
       "xywhn: tensor([[0.5161, 0.4521, 0.6521, 0.5660],\n",
       "        [0.4540, 0.3521, 0.5577, 0.4718],\n",
       "        [0.3305, 0.4950, 0.5824, 0.6541]], device='cuda:0')\n",
       "xyxy: tensor([[121.6200, 108.2262, 538.9631, 470.4791],\n",
       "        [112.1333,  74.3380, 469.0421, 376.3167],\n",
       "        [ 25.1100, 107.4888, 397.8699, 526.1253]], device='cuda:0')\n",
       "xyxyn: tensor([[0.1900, 0.1691, 0.8421, 0.7351],\n",
       "        [0.1752, 0.1162, 0.7329, 0.5880],\n",
       "        [0.0392, 0.1680, 0.6217, 0.8221]], device='cuda:0')"
      ]
     },
     "execution_count": 4,
     "metadata": {},
     "output_type": "execute_result"
    }
   ],
   "source": [
    "box = results[0][1].boxes\n",
    "box"
   ]
  },
  {
   "cell_type": "code",
   "execution_count": null,
   "metadata": {},
   "outputs": [
    {
     "name": "stdout",
     "output_type": "stream",
     "text": [
      "torch.Size([2, 33, 8400])\n",
      "torch.Size([2, 93, 80, 80])\n",
      "torch.Size([2, 93, 40, 40])\n",
      "torch.Size([2, 93, 20, 20])\n"
     ]
    }
   ],
   "source": [
    "preds_1, (preds_2_1 , preds_2_2 , preds_2_3) = results[2]\n",
    "\n",
    "print(preds_1.shape)\n",
    "print(preds_2_1.shape)\n",
    "print(preds_2_2.shape)\n",
    "print(preds_2_3.shape)"
   ]
  }
 ],
 "metadata": {
  "kernelspec": {
   "display_name": "dl_venv",
   "language": "python",
   "name": "python3"
  },
  "language_info": {
   "codemirror_mode": {
    "name": "ipython",
    "version": 3
   },
   "file_extension": ".py",
   "mimetype": "text/x-python",
   "name": "python",
   "nbconvert_exporter": "python",
   "pygments_lexer": "ipython3",
   "version": "3.10.12"
  },
  "orig_nbformat": 4
 },
 "nbformat": 4,
 "nbformat_minor": 2
}
