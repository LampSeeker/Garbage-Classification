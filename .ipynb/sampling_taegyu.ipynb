{
 "cells": [
  {
   "cell_type": "code",
   "execution_count": 1,
   "metadata": {},
   "outputs": [],
   "source": [
    "label_kr = {\n",
    "    'c_1' :0, #'종이',\n",
    "    'c_2_01': 1, #'종이팩',\n",
    "    'c_2_02': 2, #'종이컵',\n",
    "    'c_3': 3, #'캔류',\n",
    "    'c_4_01_02': 4, #'재사용 유리(소주병 + 맥주병)',\n",
    "    'c_4_02_01_02': 5, #'갈색 유리',\n",
    "    'c_4_02_02_02': 6, #'녹색 유리',\n",
    "    'c_4_02_03_02': 7, #'백색 유리',\n",
    "    'c_4_03': 8, #'기타 유리',\n",
    "    'c_5_02': 9, #'페트',\n",
    "    'c_6': 10, #'플라스틱',\n",
    "    'c_7': 11, #'비닐',\n",
    "    ## 이 위에는 재활용\n",
    "    ## 밑에는 일반쓰레기\n",
    "    'c_1_01': 12, #'종이 + 이물질',\n",
    "    'c_2_02_01': 13, #'종이컵 + 이물질',\n",
    "    'c_3_01': 14, #'캔 + 이물질',\n",
    "    'c_4_03_01': 15, #'기타 유리 + 이물질',\n",
    "    'c_5_01_01': 16, #'페트 + 이물질 + 다중포장재',\n",
    "    'c_5_02_01' : 17, #'페트+이물질',\n",
    "    'c_6_01': 18, #'플라스틱 + 이물질',\n",
    "    'c_7_01': 19, #'비닐 + 이물질',\n",
    "\n",
    "    # 다중포장재\n",
    "    'c_4_01_01': 20, #'재사용 유리(소주병+맥주병) + 다중 포장재',\n",
    "    'c_4_02_01_01': 21, #'갈색 유리 + 다중포장재',\n",
    "    'c_4_02_02_01': 22, #'녹색 유리 + 다중포장재',\n",
    "    'c_4_02_03_01': 23, #'백색 유리 + 다중포장재',\n",
    "    'c_5_01': 24, #'페트 + 다중포장재',\n",
    "    'c_8_01': 25, #'흰색 스티로폼',\n",
    "    'c_8_02': 26, #'컬러 스티로폼',\n",
    "    'c_8_01_01': 27, #'스티로폼 + 이물질',\n",
    "    'c_9': 28, #'건전지'\n",
    "}"
   ]
  },
  {
   "cell_type": "code",
   "execution_count": 2,
   "metadata": {},
   "outputs": [
    {
     "name": "stdout",
     "output_type": "stream",
     "text": [
      "29\n"
     ]
    }
   ],
   "source": [
    "print(len(label_kr))"
   ]
  },
  {
   "cell_type": "markdown",
   "metadata": {},
   "source": [
    "# valid셋에 0인 class가 있음 -> 그냥 train+valid 합치고 임의로 나눠야할듯"
   ]
  },
  {
   "cell_type": "code",
   "execution_count": 22,
   "metadata": {},
   "outputs": [
    {
     "name": "stdout",
     "output_type": "stream",
     "text": [
      "A+B의 클래스 최소값(기계용) : 1903\n",
      "C의 클래스 최소값(가정용) : 1530\n"
     ]
    }
   ],
   "source": [
    "A_train_label = [2610, 2870, 1008, 19613, 2, 8, 2, 23, 227, 33006, 196051, 13332, 2933, 5836, 2734, 78, 94562, 8579, 219386, 3307, 18, 488, 112, 398, 203578, 1116, 269, 5161, 44]\n",
    "A_valid_label = [358, 511, 154, 2561, 1, 0, 0, 1, 23, 4037, 26932, 1893, 350, 673, 286, 8, 10629, 935, 25763, 364, 1, 53, 16, 46, 27942, 229, 46, 586, 8]\n",
    "\n",
    "B_train_label = [16019, 1675, 2286, 10329, 4701, 3905, 3808, 2417, 5091, 2902, 8700, 15067, 1286, 6446, 1636, 1804, 2333, 5035, 6427, 3786, 3197, 2199, 3210, 1639, 4972, 3524, 3443, 3298, 4303]\n",
    "B_valid_label = [1881, 251, 139, 479, 8, 284, 1043, 1282, 450, 1066, 790, 1696, 116, 1034, 215, 13, 494, 364, 831, 1249, 53, 297, 25, 79, 471, 103, 1, 71, 0]\n",
    "\n",
    "C_train_label = [40894, 10277, 9716, 32271, 1273, 3090, 1584, 3230, 2465, 3842, 34303, 54433, 4741, 6878, 9281, 3560, 8999, 1998, 29593, 2868, 4119, 8673, 3658, 8375, 19618, 4762, 114, 1654, 18273]\n",
    "C_valid_label = [1, 0, 0, 2, 257, 40, 262, 554, 21, 2617, 18, 0, 201, 110, 112, 3126, 169, 2589, 29, 72, 3307, 596, 15, 81, 160, 6, 5683, 61, 0]\n",
    "\n",
    "AB_label=[0 for _ in range(29)]\n",
    "C_label=[0 for _ in range(29)]\n",
    "\n",
    "for i in range(29):\n",
    "    AB_label[i]=A_train_label[i]+A_valid_label[i]+B_train_label[i]+B_valid_label[i]\n",
    "    C_label[i]=C_train_label[i]+C_valid_label[i]\n",
    "    \n",
    "print(f'A+B의 클래스 최소값(기계용) : {min(AB_label)}')\n",
    "print(f'C의 클래스 최소값(가정용) : {min(C_label)}')"
   ]
  },
  {
   "cell_type": "markdown",
   "metadata": {},
   "source": [
    "# 한 폴더 안에 jpg, json 다 넣고 진행했음"
   ]
  },
  {
   "cell_type": "code",
   "execution_count": 4,
   "metadata": {},
   "outputs": [
    {
     "name": "stdout",
     "output_type": "stream",
     "text": [
      "데이터 개수 : 9702\n",
      "분석한 데이터 개수 : 4851\n",
      "[32, 0, 0, 6, 931, 16, 102, 50, 546, 163, 797, 177, 61, 15, 3, 7, 85, 1007, 804, 96, 1679, 13, 41, 5, 38, 22, 1, 75, 5]\n",
      "0\n"
     ]
    }
   ],
   "source": [
    "import os\n",
    "import json\n",
    "\n",
    "AB_label_count=[0 for _ in range(29)]\n",
    "\n",
    "AB_path = './mydata/AB_trainvalid_jpgjson' # 현재 경로\n",
    "AB_label_list = os.listdir(AB_path)\n",
    "print(f'데이터 개수 : {len(AB_label_list)}')\n",
    "count = 0\n",
    "\n",
    "# A2 + B9 로만 진행\n",
    "# jpg와 json파일 같은 폴더에 담겨있음\n",
    "for file_name in AB_label_list:\n",
    "    if file_name.endswith('.json'):\n",
    "        with open(os.path.join(AB_path,file_name), 'r',encoding=\"UTF-8\") as file:\n",
    "            data = json.load(file)\n",
    "            for dictionary in data[\"objects\"]:\n",
    "                AB_label_count[label_kr[dictionary['class_name']]] += 1\n",
    "            count += 1\n",
    "print(f'분석한 데이터 개수 : {count}')\n",
    "print(AB_label_count)\n",
    "print(min(AB_label_count)) # 최소값 : 밑에서 사용"
   ]
  },
  {
   "cell_type": "markdown",
   "metadata": {},
   "source": [
    "# Sampling 방향\n",
    "\n",
    "## 1. all함수 + AB_label_list 랜덤하게 섞기(random.Random(seed).shuffle()\n",
    "\n",
    "## 2. 빈도수가 가장 적은 클래스만 전부 뽑기, 안되면 그다음으로 적은 클래스를 추가하여 순차적으로 진행. \n",
    "## -> 결과가 적당히 uniform하다 싶으면 중단. \n",
    "## EX) 모든 데이터가 평균 위아래로 n%안에 존재하면 ok"
   ]
  },
  {
   "cell_type": "markdown",
   "metadata": {},
   "source": [
    "# 1번방법"
   ]
  },
  {
   "cell_type": "code",
   "execution_count": 5,
   "metadata": {},
   "outputs": [],
   "source": [
    "import random"
   ]
  },
  {
   "cell_type": "code",
   "execution_count": null,
   "metadata": {},
   "outputs": [],
   "source": [
    "# A2 + B9로만 샘플링 진행\n",
    "min_val=1530 # 원래는 위에서 가져와야 하지만 0이라 임의로 설정\n",
    "AB_path = './mydata/AB_trainvalid_jpgjson' # 현재 경로\n",
    "AB_label_list = os.listdir(AB_path)\n",
    "\n",
    "seed=1\n",
    "diff=0.1 # 임의로 설정\n",
    "\n",
    "while True:\n",
    "    random.Random(seed).shuffle(AB_label_list) # random shuffling\n",
    "\n",
    "    jpg_list=[]\n",
    "    json_list=[]\n",
    "    AB_label_count=[0 for _ in range(29)]\n",
    "\n",
    "    for file_name in AB_label_list:\n",
    "        if all(AB_label_count[i]<min_val for i in range(29)):\n",
    "            if file_name.endswith('.json'):\n",
    "                with open(os.path.join(AB_path,file_name), 'r',encoding=\"UTF-8\") as file:\n",
    "                    data = json.load(file)\n",
    "                    for dictionary in data[\"objects\"]:\n",
    "                        AB_label_count[label_kr[dictionary['class_name']]] += 1\n",
    "                        \n",
    "                # jpg, json을 my_list에 저장\n",
    "                name_temp = os.path.splitext(file_name)[0]\n",
    "                jpg_list.append(name_temp+'.jpg')\n",
    "                json_list.append(name_temp+'.json')\n",
    "    \n",
    "    m=sum(AB_label_count)/len(AB_label_count)\n",
    "    if all((1-diff)*m<=AB_label_count[i] and AB_label_count[i]<=(1+diff)*m for i in range(29)):\n",
    "        break\n",
    "    else:\n",
    "        seed+=1\n",
    "                \n",
    "print(AB_label_count) # samplinge된 클래스별 개수\n",
    "print(len(jpg_list)) # sampling된 이미지 개수"
   ]
  },
  {
   "cell_type": "markdown",
   "metadata": {},
   "source": [
    "# 2번방법"
   ]
  },
  {
   "cell_type": "code",
   "execution_count": 6,
   "metadata": {},
   "outputs": [],
   "source": [
    "AB_label_rank = [sorted(AB_label).index(i) for i in AB_label]\n",
    "\n",
    "idx_list_total=[]\n",
    "for i in range(29):\n",
    "    idx_list_total.append(AB_label_rank.index(i)) # AB_label리스트에서 가장 작은 원소의 index부터 순서대로 집어넣기"
   ]
  },
  {
   "cell_type": "code",
   "execution_count": 20,
   "metadata": {},
   "outputs": [
    {
     "name": "stdout",
     "output_type": "stream",
     "text": [
      "FAIL\n",
      "0.0 164.41379310344828\n",
      "[32, 0, 0, 6, 0, 1, 0, 0, 3, 163, 797, 177, 61, 15, 3, 0, 85, 0, 804, 96, 0, 0, 0, 0, 38, 22, 1, 75, 5]\n",
      "458\n"
     ]
    }
   ],
   "source": [
    "# A2 + B9로만 샘플링 진행\n",
    "AB_path = './mydata/AB_trainvalid_jpgjson' # 현재 경로\n",
    "AB_label_list = os.listdir(AB_path)\n",
    "seed=1\n",
    "diff=0.1\n",
    "\n",
    "idx_list=[]\n",
    "\n",
    "while True:\n",
    "    if not idx_list_total:\n",
    "        print(\"FAIL\")\n",
    "        break\n",
    "    else:\n",
    "        min_idx=idx_list_total.pop(0)\n",
    "        idx_list.append(min_idx)\n",
    "    \n",
    "    jpg_list=[]\n",
    "    json_list=[]\n",
    "    AB_label_count=[0 for _ in range(29)]\n",
    "    \n",
    "    for file_name in AB_label_list:\n",
    "        if file_name.endswith('.json'):\n",
    "            with open(os.path.join(AB_path,file_name), 'r',encoding=\"UTF-8\") as file:\n",
    "                data = json.load(file)\n",
    "                temp_label_count=[0 for _ in range(29)]\n",
    "                \n",
    "                for dictionary in data[\"objects\"]:\n",
    "                    temp_label_count[label_kr[dictionary['class_name']]] += 1\n",
    "                    \n",
    "                if any(temp_label_count[k]>0 for k in idx_list): # min_value를 갖는 클래스부터 순차적으로 전부 뽑겠다\n",
    "                    for i in range(29):\n",
    "                        AB_label_count[i]+=temp_label_count[i]\n",
    "                        \n",
    "                    # jpg, json을 my_list에 저장\n",
    "                    name_temp = os.path.splitext(file_name)[0]\n",
    "                    jpg_list.append(name_temp+'.jpg')\n",
    "                    json_list.append(name_temp+'.json')\n",
    "    \n",
    "    m=sum(AB_label_count)/len(AB_label_count)\n",
    "    \n",
    "    if all((1-diff)*m<=AB_label_count[i] and AB_label_count[i]<=(1+diff)*m for i in range(29)):\n",
    "        break\n",
    "\n",
    "print(AB_label_count) # samplinge된 클래스별 개수\n",
    "print(len(jpg_list)) # sampling된 이미지 개수"
   ]
  },
  {
   "cell_type": "markdown",
   "metadata": {},
   "source": [
    "# 다시 train, valid로 분할 후 새 경로에 저장"
   ]
  },
  {
   "cell_type": "code",
   "execution_count": 10,
   "metadata": {},
   "outputs": [
    {
     "name": "stdout",
     "output_type": "stream",
     "text": [
      "['1.jpg', '5.jpg', '3.jpg', '2.jpg'] ['4.jpg']\n",
      "['1.json', '5.json', '3.json', '2.json'] ['4.json']\n"
     ]
    }
   ],
   "source": [
    "import shutil\n",
    "from sklearn.model_selection import train_test_split\n",
    "\n",
    "jpg_train, jpg_valid= train_test_split(jpg_list,random_state=2023, test_size=0.2)\n",
    "json_train, json_valid= train_test_split(json_list,random_state=2023, test_size=0.2)\n",
    "\n",
    "# target경로에 sampling한 파일들 train/valid로 분할해서 저장\n",
    "target_train_path='./mydata/AB_sampling_train' # 새 경로, train\n",
    "target_valid_path='./mydata/AB_sampling_valid' # 새 경로, valid\n",
    "\n",
    "for file_name in jpg_train:\n",
    "    shutil.copyfile(AB_path+'/'+file_name, target_train_path+'/'+file_name)\n",
    "    \n",
    "for file_name in json_train:\n",
    "    shutil.copyfile(AB_path+'/'+file_name, target_train_path+'/'+file_name)\n",
    "    \n",
    "for file_name in jpg_valid:\n",
    "    shutil.copyfile(AB_path+'/'+file_name, target_valid_path+'/'+file_name)\n",
    "    \n",
    "for file_name in json_valid:\n",
    "    shutil.copyfile(AB_path+'/'+file_name, target_valid_path+'/'+file_name)"
   ]
  }
 ],
 "metadata": {
  "kernelspec": {
   "display_name": "Python 3 (ipykernel)",
   "language": "python",
   "name": "python3"
  },
  "language_info": {
   "codemirror_mode": {
    "name": "ipython",
    "version": 3
   },
   "file_extension": ".py",
   "mimetype": "text/x-python",
   "name": "python",
   "nbconvert_exporter": "python",
   "pygments_lexer": "ipython3",
   "version": "3.10.9"
  }
 },
 "nbformat": 4,
 "nbformat_minor": 2
}
