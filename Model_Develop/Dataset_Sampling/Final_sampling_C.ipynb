{
 "cells": [
  {
   "cell_type": "markdown",
   "metadata": {},
   "source": [
    "# Sampling"
   ]
  },
  {
   "cell_type": "code",
   "execution_count": 3,
   "metadata": {},
   "outputs": [],
   "source": [
    "import os\n",
    "import json\n",
    "import random\n",
    "import shutil\n",
    "import tqdm\n",
    "import cv2\n"
   ]
  },
  {
   "cell_type": "code",
   "execution_count": 4,
   "metadata": {},
   "outputs": [],
   "source": [
    "label_kr = {\n",
    "    'c_1' :0, #'종이',\n",
    "    'c_2_01': 1, #'종이팩',\n",
    "    'c_2_02': 2, #'종이컵',\n",
    "    'c_3': 3, #'캔류',\n",
    "    'c_4_01_02': 4, #'재사용 유리(소주병 + 맥주병)',\n",
    "    'c_4_02_01_02': 5, #'갈색 유리',\n",
    "    'c_4_02_02_02': 6, #'녹색 유리',\n",
    "    'c_4_02_03_02': 7, #'백색 유리',\n",
    "    'c_4_03': 8, #'기타 유리',\n",
    "    'c_5_02': 9, #'페트',\n",
    "    'c_6': 10, #'플라스틱',\n",
    "    'c_7': 11, #'비닐',\n",
    "    ## 이 위에는 재활용\n",
    "    ## 밑에는 일반쓰레기\n",
    "    'c_1_01': 12, #'종이 + 이물질',\n",
    "    'c_2_02_01': 13, #'종이컵 + 이물질',\n",
    "    'c_3_01': 14, #'캔 + 이물질',\n",
    "    'c_4_03_01': 15, #'기타 유리 + 이물질',\n",
    "    'c_5_01_01': 16, #'페트 + 이물질 + 다중포장재',\n",
    "    'c_5_02_01' : 17, #'페트+이물질',\n",
    "    'c_6_01': 18, #'플라스틱 + 이물질',\n",
    "    'c_7_01': 19, #'비닐 + 이물질',\n",
    "\n",
    "    # 다중포장재\n",
    "    'c_4_01_01': 20, #'재사용 유리(소주병+맥주병) + 다중 포장재',\n",
    "    'c_4_02_01_01': 21, #'갈색 유리 + 다중포장재',\n",
    "    'c_4_02_02_01': 22, #'녹색 유리 + 다중포장재',\n",
    "    'c_4_02_03_01': 23, #'백색 유리 + 다중포장재',\n",
    "    'c_5_01': 24, #'페트 + 다중포장재',\n",
    "    'c_8_01': 25, #'흰색 스티로폼',\n",
    "    'c_8_02': 26, #'컬러 스티로폼',\n",
    "    'c_8_01_01': 27, #'스티로폼 + 이물질',\n",
    "    'c_9': 28, #'건전지'\n",
    "}"
   ]
  },
  {
   "cell_type": "markdown",
   "metadata": {},
   "source": [
    "# 무결성 검사\n",
    "존재하는 이미지만 json파일 추출"
   ]
  },
  {
   "cell_type": "code",
   "execution_count": 5,
   "metadata": {},
   "outputs": [
    {
     "name": "stderr",
     "output_type": "stream",
     "text": [
      "151453it [00:00, 584277.49it/s]\n",
      "20088it [00:00, 559660.30it/s]\n",
      "100%|██████████| 20088/20088 [00:41<00:00, 484.59it/s]\n"
     ]
    },
    {
     "name": "stdout",
     "output_type": "stream",
     "text": [
      "이미지 개수 : 151453\n",
      "json 개수 : 20078\n"
     ]
    }
   ],
   "source": [
    "images_path = './unzip_image'\n",
    "json_path = './unzip_label'\n",
    "\n",
    "to_image_path = './image_hub'\n",
    "to_json_path = './label_hub'\n",
    "\n",
    "images_list = os.listdir(images_path)\n",
    "json_list = os.listdir(json_path)\n",
    "\n",
    "print('이미지 형식 jpg로 통일')\n",
    "for file_name in tqdm.tqdm(images_list):\n",
    "    if file_name.endswith('.JPG'):\n",
    "        new_file_name = file_name.replace('.JPG', '.jpg')\n",
    "        old_file_path = os.path.join(images_path, file_name)\n",
    "        new_file_path = os.path.join(images_path, new_file_name)\n",
    "        os.rename(old_file_path, new_file_path)\n",
    "\n",
    "for file_list in [images_list,json_list]:\n",
    "    for idx , file_name in tqdm.tqdm(enumerate(file_list)):\n",
    "        file_list[idx] = os.path.splitext(file_name)[0]\n",
    "\n",
    "cnt = 0\n",
    "for file_name in tqdm.tqdm(images_list):\n",
    "    if file_name not in json_list: \n",
    "        os.remove(os.path.join(images_path,file_name+'.jpg'))\n",
    "    else:\n",
    "        cnt += 1\n",
    "        shutil.move(os.path.join(images_path,file_name+'.jpg'),os.path.join(to_image_path,file_name+'.jpg'))\n",
    "        shutil.move(os.path.join(json_path,file_name+'.json'),os.path.join(to_json_path,file_name+'.json'))\n",
    "\n",
    "print(f'옮긴 데이터 개수 : {cnt}게')"
   ]
  },
  {
   "cell_type": "markdown",
   "metadata": {},
   "source": [
    "# JSON to TXT"
   ]
  },
  {
   "cell_type": "code",
   "execution_count": 4,
   "metadata": {},
   "outputs": [
    {
     "name": "stderr",
     "output_type": "stream",
     "text": [
      "  0%|          | 2/114960 [00:00<2:41:03, 11.90it/s]"
     ]
    },
    {
     "name": "stdout",
     "output_type": "stream",
     "text": [
      "C_20220817_000825.json\n"
     ]
    },
    {
     "name": "stderr",
     "output_type": "stream",
     "text": [
      " 62%|██████▏   | 71787/114960 [2:18:53<1:04:11, 11.21it/s]"
     ]
    },
    {
     "name": "stdout",
     "output_type": "stream",
     "text": [
      "C_20220920_000122.json\n"
     ]
    },
    {
     "name": "stderr",
     "output_type": "stream",
     "text": [
      "100%|██████████| 114960/114960 [3:44:05<00:00,  8.55it/s] \n"
     ]
    }
   ],
   "source": [
    "# Json to txt\n",
    "label_change = {\n",
    "    0:0 , 1:1 , 2:2 , 3:3 , 4:4 , 5:4 , 6:4 , 7:4 , 8:4 , 9:5 , 10:6 , 11:7 , 12:0 , 13:1 , 14:3 , 15:4 , 16:9 , 17:5 , 18:6 ,\n",
    "    19:7 , 20:8 , 21:8, 22:8 , 23:8 , 24:9 , 25:10 , 26: 10 , 27:10 , 28:11\n",
    "}\n",
    "\n",
    "from_label_path = './label_hub'\n",
    "from_image_path = './image_hub'\n",
    "\n",
    "json_list = os.listdir(from_label_path)\n",
    "\n",
    "for file_name in tqdm.tqdm(json_list):\n",
    "    try:\n",
    "        image_name = os.path.splitext(file_name)[0]+'.jpg'\n",
    "        image = cv2.imread(os.path.join(from_image_path,image_name))\n",
    "        h , w , _ = image.shape  # 세로,가로\n",
    "        resized_image = cv2.resize(image,(640,640))\n",
    "        cv2.imwrite(os.path.join(from_image_path,image_name),resized_image)\n",
    "\n",
    "        with open(os.path.join(from_label_path,file_name), 'r',encoding=\"UTF-8\") as file:\n",
    "            data = json.load(file)\n",
    "            \n",
    "        extracted_objects = []      \n",
    "        for dictionary in data[\"objects\"]:                 \n",
    "            class_name = label_change[label_kr[dictionary[\"class_name\"]]]\n",
    "            coord_x = dictionary[\"annotation\"][\"coord\"][\"x\"]\n",
    "            coord_y = dictionary[\"annotation\"][\"coord\"][\"y\"]\n",
    "            coord_width = dictionary[\"annotation\"][\"coord\"][\"width\"]\n",
    "            coord_height = dictionary[\"annotation\"][\"coord\"][\"height\"]\n",
    "            extracted_objects.append((class_name, (coord_x+coord_width/2)/w,\n",
    "                                    (coord_y+coord_height/2)/h,coord_width/w,coord_height/h))\n",
    "        # 추출한 값을 텍스트 파일로 저장\n",
    "        text_file_name = os.path.splitext(file_name)[0] + '.txt'\n",
    "        text_file_path = os.path.join(from_label_path, text_file_name)\n",
    "        with open(text_file_path, 'w') as file:\n",
    "            for obj in extracted_objects:\n",
    "                file.write(' '.join(map(str, obj)) + '\\n')\n",
    "        os.remove(os.path.join(from_label_path,file_name))\n",
    "\n",
    "    except:\n",
    "        print(file_name)\n",
    "        os.remove(os.path.join(from_image_path,os.path.splitext(file_name)[0]+'.jpg'))\n",
    "        os.remove(os.path.join(from_label_path,file_name))\n",
    "\n",
    "\n",
    "    "
   ]
  },
  {
   "cell_type": "markdown",
   "metadata": {},
   "source": [
    "# 레이블 분포"
   ]
  },
  {
   "cell_type": "code",
   "execution_count": 5,
   "metadata": {},
   "outputs": [
    {
     "name": "stdout",
     "output_type": "stream",
     "text": [
      "final C 데이터 셋 개수 : 151453\n"
     ]
    },
    {
     "name": "stderr",
     "output_type": "stream",
     "text": [
      "100%|██████████| 151453/151453 [10:32<00:00, 239.48it/s]"
     ]
    },
    {
     "name": "stdout",
     "output_type": "stream",
     "text": [
      "[34041, 9107, 5290, 28135, 18302, 10886, 47216, 44072, 19299, 21502, 11330, 6499]\n"
     ]
    },
    {
     "name": "stderr",
     "output_type": "stream",
     "text": [
      "\n"
     ]
    }
   ],
   "source": [
    "label_path = './label_hub'\n",
    "label_list = os.listdir(label_path)\n",
    "print(f'final C 데이터 셋 개수 : {len(label_list)}')\n",
    "\n",
    "label_count = [0 for _ in range(12)]\n",
    "\n",
    "for label_name in tqdm.tqdm(label_list):\n",
    "    temp_list = [0 for _ in range(12)]\n",
    "    with open(os.path.join(label_path,label_name), 'r',encoding=\"UTF-8\") as file:\n",
    "        for line in file:\n",
    "            temp_list[int(line.split()[0])] += 1\n",
    "    for i in range(12):\n",
    "            label_count[i] += temp_list[i]\n",
    "print(label_count)\n"
   ]
  },
  {
   "cell_type": "markdown",
   "metadata": {},
   "source": [
    "# Uniform 분포"
   ]
  },
  {
   "cell_type": "code",
   "execution_count": 33,
   "metadata": {},
   "outputs": [
    {
     "name": "stderr",
     "output_type": "stream",
     "text": [
      "100%|██████████| 144757/144757 [11:17<00:00, 213.60it/s]\n"
     ]
    },
    {
     "name": "stdout",
     "output_type": "stream",
     "text": [
      "[3083, 5499, 4121, 4256, 173, 166, 3638, 4473, 2023, 2192, 241, 5267]\n"
     ]
    },
    {
     "name": "stderr",
     "output_type": "stream",
     "text": [
      "100%|██████████| 132338/132338 [11:31<00:00, 191.25it/s]\n"
     ]
    },
    {
     "name": "stdout",
     "output_type": "stream",
     "text": [
      "[5500, 5500, 4121, 5500, 5500, 5500, 5501, 5500, 5500, 5500, 5501, 5267]\n"
     ]
    },
    {
     "name": "stderr",
     "output_type": "stream",
     "text": [
      "100%|██████████| 107428/107428 [01:14<00:00, 1441.29it/s]\n"
     ]
    },
    {
     "name": "stdout",
     "output_type": "stream",
     "text": [
      "[5545, 5703, 4211, 5558, 5503, 5500, 5556, 5551, 5551, 5556, 5504, 5382]\n"
     ]
    },
    {
     "name": "stderr",
     "output_type": "stream",
     "text": [
      "100%|██████████| 107239/107239 [00:20<00:00, 5127.51it/s]\n"
     ]
    },
    {
     "name": "stdout",
     "output_type": "stream",
     "text": [
      "[5545, 5709, 4214, 5558, 5503, 5500, 5557, 5555, 5553, 5558, 5504, 5387]\n",
      "[5545, 5709, 4214, 5558, 5503, 5500, 5557, 5555, 5553, 5558, 5504, 5387]\n",
      "37524\n",
      "37524\n"
     ]
    }
   ],
   "source": [
    "# 폴더 명 확인인\n",
    "\n",
    "from_image_path = './image_hub'\n",
    "from_label_path = './label_hub'\n",
    "to_image_path = './Final_C_data/train/images'\n",
    "to_label_path = './Final_C_data/train/labels'\n",
    "\n",
    "max_val = 5700\n",
    "min_val = 5500\n",
    "seed = 1234\n",
    "\n",
    "AB_label_count=[0 for _ in range(12)]\n",
    "\n",
    "\n",
    "special = [1,2,11]\n",
    "label_list = os.listdir(from_label_path)\n",
    "random.Random(seed).shuffle(label_list) # random shuffling\n",
    "for label_name in tqdm.tqdm(label_list):\n",
    "    image_name = os.path.splitext(label_name)[0] + '.jpg'\n",
    "    temp_list = [0 for _ in range(12)]\n",
    "    with open(os.path.join(from_label_path,label_name), 'r',encoding=\"UTF-8\") as file:\n",
    "        for line in file:\n",
    "            temp_list[int(line.split()[0])] += 1\n",
    "\n",
    "    if sum(temp_list[idx] for idx in special) and all((AB_label_count[idx] + temp_list[idx] < min_val) for idx in range(12)):\n",
    "        for i in range(12):\n",
    "            AB_label_count[i] += temp_list[i]\n",
    "        shutil.move(os.path.join(from_label_path,label_name) , os.path.join(to_label_path,label_name))\n",
    "        shutil.copy(os.path.join(from_image_path,image_name) , os.path.join(to_image_path,image_name))\n",
    "    \n",
    "print(AB_label_count)\n",
    "\n",
    "\n",
    "break_x = False\n",
    "for patience in range(3):\n",
    "    label_list = os.listdir(from_label_path)\n",
    "    random.Random(seed).shuffle(label_list) # random shuffling\n",
    "\n",
    "    for label_name in tqdm.tqdm(label_list):\n",
    "        image_name = os.path.splitext(label_name)[0] + '.jpg'\n",
    "        if all(AB_label_count[i]<min_val for i in range(12)):\n",
    "            temp_list = [0 for _ in range(12)]\n",
    "            with open(os.path.join(from_label_path,label_name), 'r',encoding=\"UTF-8\") as file:\n",
    "                for line in file:\n",
    "                    temp_list[int(line.split()[0])] += 1\n",
    "            for i in range(12):\n",
    "                AB_label_count[i] += temp_list[i]\n",
    "            shutil.move(os.path.join(from_label_path,label_name) , os.path.join(to_label_path,label_name))\n",
    "            shutil.copy(os.path.join(from_image_path,image_name) , os.path.join(to_image_path,image_name))\n",
    "    \n",
    "\n",
    "        elif any(AB_label_count[i]<min_val for i in range(12)):\n",
    "            need_list = [1 if x < min_val else 0 for x in AB_label_count]\n",
    "            temp_list = [0 for _ in range(12)]\n",
    "            with open(os.path.join(from_label_path,label_name), 'r',encoding=\"UTF-8\") as file:\n",
    "                for line in file:\n",
    "                    temp_list[int(line.split()[0])] += 1\n",
    "\n",
    "            go_x = True\n",
    "            cnt = 0\n",
    "            for i in range(12):\n",
    "                if need_list[i]:\n",
    "                    if temp_list[i] > 0:\n",
    "                        cnt += 1\n",
    "                else:\n",
    "                    if temp_list[i] > 2*patience or (AB_label_count[i] > max_val + 2*(patience**2)) :\n",
    "                        go_x = False\n",
    "                        break\n",
    "\n",
    "                        \n",
    "            if go_x and cnt:\n",
    "                for i in range(12):\n",
    "                    AB_label_count[i] += temp_list[i]\n",
    "                \n",
    "                shutil.move(os.path.join(from_label_path,label_name) , os.path.join(to_label_path,label_name))\n",
    "                shutil.copy(os.path.join(from_image_path,image_name) , os.path.join(to_image_path,image_name))\n",
    "            \n",
    "        if all(AB_label_count[i]>=min_val for i in range(12)):\n",
    "            break_x = True\n",
    "            break\n",
    "    if break_x:\n",
    "        break   \n",
    "    print(AB_label_count) # samplinge된 클래스별 개수\n",
    "print(AB_label_count) \n",
    "\n",
    "for path in [to_image_path,to_label_path]:\n",
    "    moved_lsit = os.listdir(path)\n",
    "    print(len(moved_lsit))"
   ]
  },
  {
   "cell_type": "code",
   "execution_count": 32,
   "metadata": {},
   "outputs": [
    {
     "name": "stdout",
     "output_type": "stream",
     "text": [
      "0\n"
     ]
    }
   ],
   "source": [
    "# 위에 코드 재실행할 때 사용\n",
    "json_list = os.listdir(to_label_path)\n",
    "cnt = 0\n",
    "for file_name in json_list:\n",
    "    #shutil.copy(os.path.join(to_path,file_name) , os.path.join(AB_path,file_name))\n",
    "    shutil.move(os.path.join(to_label_path,file_name) , os.path.join(from_label_path,file_name))\n",
    "    cnt += 1\n",
    "print(cnt)"
   ]
  },
  {
   "cell_type": "code",
   "execution_count": 34,
   "metadata": {},
   "outputs": [
    {
     "name": "stderr",
     "output_type": "stream",
     "text": [
      "100%|██████████| 37524/37524 [01:58<00:00, 317.66it/s]\n"
     ]
    },
    {
     "name": "stdout",
     "output_type": "stream",
     "text": [
      "train : 이미지 개수 : 37524 / txt 개수 : 37524 / 이미지,txt쌍 개수 : 37524\n",
      "[5545, 5709, 4214, 5558, 5503, 5500, 5557, 5555, 5553, 5558, 5504, 5387]\n",
      "\n"
     ]
    },
    {
     "name": "stderr",
     "output_type": "stream",
     "text": [
      "100%|██████████| 3414/3414 [00:16<00:00, 205.60it/s]\n"
     ]
    },
    {
     "name": "stdout",
     "output_type": "stream",
     "text": [
      "val : 이미지 개수 : 3414 / txt 개수 : 3414 / 이미지,txt쌍 개수 : 3414\n",
      "[500, 500, 500, 500, 500, 500, 500, 500, 500, 500, 500, 500]\n",
      "\n"
     ]
    },
    {
     "name": "stderr",
     "output_type": "stream",
     "text": [
      "100%|██████████| 3282/3282 [00:14<00:00, 231.11it/s]\n"
     ]
    },
    {
     "name": "stdout",
     "output_type": "stream",
     "text": [
      "test : 이미지 개수 : 3282 / txt 개수 : 3282 / 이미지,txt쌍 개수 : 3282\n",
      "[500, 500, 500, 501, 500, 500, 500, 502, 500, 500, 500, 500]\n",
      "\n"
     ]
    }
   ],
   "source": [
    "tr_vl = ['train','val','test']\n",
    "\n",
    "\n",
    "for t_v in tr_vl:\n",
    "    from_path = os.path.join('./Final_C_data',t_v)\n",
    "    image_path = os.path.join(from_path,'images')\n",
    "    label_path = os.path.join(from_path,'labels')\n",
    "\n",
    "    image_list = os.listdir(image_path)\n",
    "    label_list = os.listdir(label_path)\n",
    "\n",
    "    label_count=[0 for _ in range(12)]\n",
    "\n",
    "    for file_name in tqdm.tqdm(label_list):\n",
    "        with open(os.path.join(label_path,file_name), 'r',encoding=\"UTF-8\") as file:\n",
    "            for line in file:\n",
    "                label_count[int(line.split()[0])] += 1\n",
    "                \n",
    "    image_list = [os.path.splitext(v)[0] for v in image_list]\n",
    "    label_list = [os.path.splitext(v)[0] for v in label_list]\n",
    "    image_label_list = set(image_list+label_list)\n",
    "\n",
    "    print(f'{t_v} : 이미지 개수 : {len(image_list)} / txt 개수 : {len(label_list)} / 이미지,txt쌍 개수 : {len(image_label_list)}')\n",
    "    print(label_count)\n",
    "    print()\n"
   ]
  },
  {
   "cell_type": "code",
   "execution_count": null,
   "metadata": {},
   "outputs": [],
   "source": []
  },
  {
   "cell_type": "code",
   "execution_count": null,
   "metadata": {},
   "outputs": [],
   "source": []
  },
  {
   "cell_type": "code",
   "execution_count": null,
   "metadata": {},
   "outputs": [],
   "source": []
  }
 ],
 "metadata": {
  "kernelspec": {
   "display_name": "Python 3 (ipykernel)",
   "language": "python",
   "name": "python3"
  },
  "language_info": {
   "codemirror_mode": {
    "name": "ipython",
    "version": 3
   },
   "file_extension": ".py",
   "mimetype": "text/x-python",
   "name": "python",
   "nbconvert_exporter": "python",
   "pygments_lexer": "ipython3",
   "version": "3.10.9"
  }
 },
 "nbformat": 4,
 "nbformat_minor": 2
}
