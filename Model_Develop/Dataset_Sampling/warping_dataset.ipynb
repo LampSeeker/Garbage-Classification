{
 "cells": [
  {
   "cell_type": "markdown",
   "metadata": {},
   "source": [
    "1. txt파일을 읽는다.\n",
    "2. xywh -> xyxy변환\n",
    "3. 0~1 -> -1~+1 변환\n",
    "4. warp 변환\n",
    "5. -1 ~ +1 변환\n",
    "6. xyxy -> xywh변환\n",
    "7. txt 저장"
   ]
  },
  {
   "cell_type": "code",
   "execution_count": 34,
   "metadata": {},
   "outputs": [],
   "source": [
    "from fastai.vision.augment import Warp\n",
    "import cv2\n",
    "import torch\n",
    "import numpy as np\n",
    "import matplotlib.pyplot as plt\n",
    "from fastai.vision.core import TensorImage ,TensorBBox , TensorPoint\n",
    "import os\n",
    "import shutil\n",
    "import random\n",
    "import tqdm"
   ]
  },
  {
   "cell_type": "code",
   "execution_count": 35,
   "metadata": {},
   "outputs": [],
   "source": [
    "def xywh2xyxy(x):\n",
    "    y = np.copy(x)\n",
    "    y[..., 0] = x[..., 0] - x[..., 2] / 2  # top left x\n",
    "    y[..., 1] = x[..., 1] - x[..., 3] / 2  # top left y\n",
    "    y[..., 2] = x[..., 0] + x[..., 2] / 2  # bottom right x\n",
    "    y[..., 3] = x[..., 1] + x[..., 3] / 2  # bottom right y\n",
    "    return y\n",
    "\n",
    "def xyxy2xywh(x):\n",
    "    y = np.copy(x)\n",
    "    y[..., 0] = (x[..., 0] + x[..., 2]) / 2  # x center\n",
    "    y[..., 1] = (x[..., 1] + x[..., 3]) / 2  # y center\n",
    "    y[..., 2] = x[..., 2] - x[..., 0]  # width\n",
    "    y[..., 3] = x[..., 3] - x[..., 1]  # height\n",
    "    return y\n",
    "\n",
    "def zero2minusone(x):\n",
    "    y = np.copy(x)\n",
    "    y = 2 * y - 1\n",
    "    return y\n",
    "\n",
    "def minusone2zero(x):\n",
    "    y = np.copy(x)\n",
    "    y = (y + 1) / 2\n",
    "    return y"
   ]
  },
  {
   "cell_type": "code",
   "execution_count": 36,
   "metadata": {},
   "outputs": [
    {
     "name": "stderr",
     "output_type": "stream",
     "text": [
      "100%|██████████| 9381/9381 [12:28<00:00, 12.54it/s]\n"
     ]
    }
   ],
   "source": [
    "from_image_path = './Final_C_data/train/images'\n",
    "from_label_path = './Final_C_data/train/labels'\n",
    "\n",
    "to_image_path = './Final_C_data/train/warping_images'\n",
    "to_label_path = './Final_C_data/train/warping_labels'\n",
    "\n",
    "image_list = os.listdir(from_image_path)\n",
    "\n",
    "ratio = 0.25\n",
    "image_list = random.sample(image_list, int(len(image_list)*ratio))\n",
    "dx = [-0.4 , -0.3 , -0.2 , -0.1 , 0.1 , 0.2 , 0.3 , 0.4]\n",
    "dy = [-0.4 , -0.3 , -0.2 , -0.1 , 0.1 , 0.2 , 0.3 , 0.4]\n",
    "\n",
    "\n",
    "## for 문 돌리기.\n",
    "for image_name in tqdm.tqdm(image_list):\n",
    "    file_name = os.path.splitext(image_name)[0]\n",
    "    img = cv2.imread(os.path.join(from_image_path,image_name))\n",
    "    img = torch.tensor(img) / 255.0\n",
    "    img = img.permute(2, 0, 1)\n",
    "\n",
    "    label_xywh = [] # txt파일 class,x,y,w,h 저장\n",
    "    with open(os.path.join(from_label_path,file_name+'.txt'), 'r',encoding=\"UTF-8\") as file:\n",
    "        for line in file:\n",
    "            label_xywh.append(list(map(float,line.strip().split())))\n",
    "    label_xywh = np.array(label_xywh)\n",
    "    label_xyxy= zero2minusone(xywh2xyxy(label_xywh[:,1:]))\n",
    "    label_xyxy = torch.Tensor(label_xyxy)\n",
    "\n",
    "\n",
    "    xi = random.randint(0, 7)\n",
    "    yi = random.randint(0, 7)\n",
    "    warp_transform = Warp(p=1. , draw_y=dy[yi], draw_x=dx[yi] , size=(640,640))\n",
    "\n",
    "    warped_image = warp_transform(TensorImage(img.unsqueeze(0)))[0]\n",
    "    warped_label = warp_transform(TensorBBox(label_xyxy.unsqueeze(0)))[0]\n",
    "\n",
    "    warped_image = np.transpose(warped_image.numpy(), (1, 2, 0)) * 255\n",
    "    warped_label = xyxy2xywh(minusone2zero(warped_label.numpy()))\n",
    "    warped_label = np.hstack((label_xywh[:,0].reshape(-1,1), warped_label))\n",
    "\n",
    "    cv2.imwrite(os.path.join(to_image_path,file_name+'warped.jpg'),warped_image)\n",
    "    with open(os.path.join(to_label_path,file_name+'warped.txt'), 'w') as file:\n",
    "        for obj in warped_label:\n",
    "            file.write(' '.join([str(int(obj[0]))] + list(map(str, obj[1:]))) + '\\n')\n",
    "    \n"
   ]
  },
  {
   "cell_type": "code",
   "execution_count": 38,
   "metadata": {},
   "outputs": [],
   "source": [
    "#이미지 테스트\n",
    "to_image_path = './Final_C_data/train/warping_images'\n",
    "to_label_path = './Final_C_data/train/warping_labels'\n",
    "\n",
    "save_path = './warp_test'\n",
    "\n",
    "image_list = os.listdir(to_image_path)\n",
    "image_list = random.sample(image_list, 20)\n",
    "# 이미지 로드\n",
    "for idx , image_name in enumerate(image_list):\n",
    "    file_name = os.path.splitext(image_name)[0]\n",
    "    image = cv2.imread(os.path.join(to_image_path,image_name))\n",
    "   \n",
    "    height, width, _ = image.shape\n",
    "    with open(os.path.join(to_label_path,file_name + '.txt'), \"r\") as file:\n",
    "        lines = file.readlines()  # 파일의 모든 줄을 읽어옴\n",
    "\n",
    "        for line in lines:\n",
    "            line = line.strip()  # 줄의 양쪽 공백 및 개행문자 제거\n",
    "            values = line.split(\" \")  # 쉼표와 공백을 기준으로 문자열을 나눔\n",
    "\n",
    "            # 값 추출\n",
    "            class_name = int(values[0])\n",
    "            box_x = float(values[1])\n",
    "            box_y = float(values[2])\n",
    "            box_w = float(values[3])\n",
    "            box_h = float(values[4])\n",
    "\n",
    "            # 좌표 값으로 bounding box 그리기\n",
    "            left_x = int((box_x-box_w/2)*width)\n",
    "            left_y = int((box_y-box_h/2)*height)\n",
    "            right_x = int((box_x+box_w/2)*width)\n",
    "            right_y = int((box_y+box_h/2)*height)\n",
    "            cv2.rectangle(image, (left_x ,left_y), (right_x, right_y), (0, 255, 0), 2)\n",
    "\n",
    "    cv2.imwrite(os.path.join(save_path,f\"{str(idx)}.png\"), image)"
   ]
  },
  {
   "cell_type": "code",
   "execution_count": null,
   "metadata": {},
   "outputs": [],
   "source": []
  }
 ],
 "metadata": {
  "kernelspec": {
   "display_name": "Python 3",
   "language": "python",
   "name": "python3"
  },
  "language_info": {
   "codemirror_mode": {
    "name": "ipython",
    "version": 3
   },
   "file_extension": ".py",
   "mimetype": "text/x-python",
   "name": "python",
   "nbconvert_exporter": "python",
   "pygments_lexer": "ipython3",
   "version": "3.10.9"
  },
  "orig_nbformat": 4
 },
 "nbformat": 4,
 "nbformat_minor": 2
}
