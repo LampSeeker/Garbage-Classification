{
 "cells": [
  {
   "attachments": {},
   "cell_type": "markdown",
   "metadata": {},
   "source": [
    "# 쓰레기 감지 최종 프로젝트\n",
    "## EDA"
   ]
  },
  {
   "attachments": {},
   "cell_type": "markdown",
   "metadata": {},
   "source": [
    "**데이터셋 : AI HUB 생활폐기물 데이터 활용·환류**\n",
    "\n",
    "[AI HUB링크](https://aihub.or.kr/aihubdata/data/view.do?currMenu=115&topMenu=100&aihubDataSe=realm&dataSetSn=71385)\n",
    "\n",
    "Train Data EDA"
   ]
  },
  {
   "cell_type": "markdown",
   "metadata": {},
   "source": [
    "# 이미지당 객체 개수"
   ]
  },
  {
   "cell_type": "code",
   "execution_count": 28,
   "metadata": {},
   "outputs": [],
   "source": [
    "from tqdm import tqdm\n",
    "import matplotlib.pyplot as plt\n",
    "import numpy as np"
   ]
  },
  {
   "cell_type": "code",
   "execution_count": 29,
   "metadata": {},
   "outputs": [
    {
     "name": "stdout",
     "output_type": "stream",
     "text": [
      "폴더 개수 : 20\n"
     ]
    }
   ],
   "source": [
    "import os\n",
    "import json\n",
    "\n",
    "def get_folder_names(path):\n",
    "    folder_names = []\n",
    "    for item in os.listdir(path):\n",
    "        if os.path.isdir(os.path.join(path, item)):\n",
    "            folder_names.append(item)\n",
    "    return folder_names\n",
    "\n",
    "# 폴더 이름을 가져올 경로를 지정.\n",
    "root_path = r'C:\\Users\\minki\\Desktop\\B5_최종프로젝트\\01.데이터\\Training\\02.라벨링데이터'\n",
    "\n",
    "# 폴더 이름을 가져와서 출력합니다.\n",
    "folders = get_folder_names(root_path)\n",
    "print(f'폴더 개수 : {len(folders)}')"
   ]
  },
  {
   "cell_type": "code",
   "execution_count": null,
   "metadata": {},
   "outputs": [],
   "source": [
    "object_count = [0 for i in range(50)]\n",
    "\n",
    "count_file = 0\n",
    "\n",
    "for i , folder_name in tqdm(enumerate(folders)):\n",
    "    folder_path = os.path.join(root_path, folders[i])\n",
    "    for file_name in os.listdir(folder_path):\n",
    "        with open(os.path.join(folder_path, file_name), 'r') as f:\n",
    "            data = json.load(f)\n",
    "            object_count[len(data['objects'])] += 1"
   ]
  },
  {
   "cell_type": "code",
   "execution_count": null,
   "metadata": {},
   "outputs": [
    {
     "name": "stdout",
     "output_type": "stream",
     "text": [
      "최대 개수는 : 44\n"
     ]
    }
   ],
   "source": [
    "max_count = 0\n",
    "for i in range(999,-1,-1):\n",
    "    if object_count[i]!=0:\n",
    "        max_count = i\n",
    "        print(f'최대 개수는 : {max_count}')\n",
    "        break"
   ]
  },
  {
   "cell_type": "code",
   "execution_count": null,
   "metadata": {},
   "outputs": [
    {
     "data": {
      "image/png": "[encoded data removed]",
      "text/plain": [
       "<Figure size 640x480 with 1 Axes>"
      ]
     },
     "metadata": {},
     "output_type": "display_data"
    }
   ],
   "source": [
    "x = np.arange(max_count+1)\n",
    "y = np.array(object_count[:max_count+1])\n",
    "plt.title(\"Box num in an image\")\n",
    "plt.bar(x, y)\n",
    "plt.xlabel(\"Box num\")\n",
    "plt.ylabel(\"count\")\n",
    "plt.show()"
   ]
  },
  {
   "cell_type": "code",
   "execution_count": null,
   "metadata": {},
   "outputs": [],
   "source": [
    "np.save('BoxNum_in_images.npy', y)\n",
    "#y = np.load('BoxNum_in_images.npy')"
   ]
  },
  {
   "cell_type": "code",
   "execution_count": 27,
   "metadata": {},
   "outputs": [
    {
     "data": {
      "text/plain": [
       "array([     0, 199231,  69251,  51786,  41229,  28313,  10387,   8235,\n",
       "         6392,   5344,   4461,   3874,   3431,   2956,   2197,   1567,\n",
       "          823,    560,    350,    223,    203,    109,     93,     51,\n",
       "           52,     26,     30,     15,     12,      6,     11,      7,\n",
       "            7,      5,      0,      1,      2,      0,      0,      0,\n",
       "            0,      0,      0,      0,      1])"
      ]
     },
     "execution_count": 27,
     "metadata": {},
     "output_type": "execute_result"
    }
   ],
   "source": [
    "y"
   ]
  },
  {
   "cell_type": "code",
   "execution_count": 8,
   "metadata": {},
   "outputs": [],
   "source": [
    "# Class name\n",
    "\n",
    "label_to_classname = {\n",
    "    'c_1': '종이',\n",
    "    'c_2_01': '종이팩',\n",
    "    'c_2_02': '종이컵',\n",
    "    'c_3': '캔류',\n",
    "    'c_4_01_02': '재사용 유리 (소주병+맥주병)',\n",
    "    'c_4_02_01_02': '갈색 유리',\n",
    "    'c_4_02_02_02': '녹색 유리',\n",
    "    'c_4_02_03_02': '백색 유리',\n",
    "    'c_4_03': '기타 유리',\n",
    "    'c_5_02': '페트',\n",
    "    'c_6': '플라스틱',\n",
    "    'c_7': '비닐',\n",
    "    'c_1_01': '종이 + 이물질',\n",
    "    'c_2_02_01': '종이컵 + 이물질',\n",
    "    'c_3_01': '캔 + 이물질',\n",
    "    'c_4_03_01': '기타유리 + 이물질',\n",
    "    'c_5_01_01': '페트 + 이물질 + 다중포장재',\n",
    "    'c_5_02_01': '페트 + 이물질',\n",
    "    'c_6_01': '플라스틱 + 이물질',\n",
    "    'c_7_01': '비닐 + 이물질',\n",
    "    'c_4_01_01': '재사용 유리 (소주병+맥주병) + 다중포장재',\n",
    "    'c_4_02_01_01': '갈색 유리 + 다중포장재',\n",
    "    'c_4_02_02_01': '녹색 유리 + 다중포장재',\n",
    "    'c_4_02_03_01': '백색 유리 + 다중포장재',\n",
    "    'c_5_01': '페트 + 다중포장재',\n",
    "    'c_8_01': '흰색 스티로폼',\n",
    "    'c_8_02': '컬러 스티로폼',\n",
    "    'c_8_01_01': '스티로폼 + 이물질',\n",
    "    'c_9': '건전지'\n",
    "}"
   ]
  }
 ],
 "metadata": {
  "kernelspec": {
   "display_name": "dl_venv",
   "language": "python",
   "name": "python3"
  },
  "language_info": {
   "codemirror_mode": {
    "name": "ipython",
    "version": 3
   },
   "file_extension": ".py",
   "mimetype": "text/x-python",
   "name": "python",
   "nbconvert_exporter": "python",
   "pygments_lexer": "ipython3",
   "version": "3.10.9"
  },
  "orig_nbformat": 4
 },
 "nbformat": 4,
 "nbformat_minor": 2
}
